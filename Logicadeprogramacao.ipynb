{
  "nbformat": 4,
  "nbformat_minor": 0,
  "metadata": {
    "colab": {
      "name": "Logicadeprogramacao.ipynb",
      "provenance": [],
      "authorship_tag": "ABX9TyPVGVgWNz1FtXIrl87gtIm6",
      "include_colab_link": true
    },
    "kernelspec": {
      "name": "python3",
      "display_name": "Python 3"
    },
    "language_info": {
      "name": "python"
    }
  },
  "cells": [
    {
      "cell_type": "markdown",
      "metadata": {
        "id": "view-in-github",
        "colab_type": "text"
      },
      "source": [
        "<a href=\"https://colab.research.google.com/github/rchalet07/COLAB/blob/main/Logicadeprogramacao.ipynb\" target=\"_parent\"><img src=\"https://colab.research.google.com/assets/colab-badge.svg\" alt=\"Open In Colab\"/></a>"
      ]
    },
    {
      "cell_type": "markdown",
      "metadata": {
        "id": "dR1I6KqOAXso"
      },
      "source": [
        "## LÓGICA DE PROGRAMAÇÃO\n",
        "\n"
      ]
    },
    {
      "cell_type": "code",
      "metadata": {
        "id": "tjSt9vkY_uGt"
      },
      "source": [
        ""
      ],
      "execution_count": null,
      "outputs": []
    },
    {
      "cell_type": "code",
      "metadata": {
        "id": "LkRhiDhqAXKo"
      },
      "source": [
        ""
      ],
      "execution_count": null,
      "outputs": []
    },
    {
      "cell_type": "markdown",
      "metadata": {
        "id": "0ovNa6sYCQWr"
      },
      "source": [
        "## CRIANDO MINHA PRIMEIRA FUNÇÃO"
      ]
    },
    {
      "cell_type": "code",
      "metadata": {
        "id": "lVcC3C_SCW4X"
      },
      "source": [
        "def saudacao():\n",
        "  nome=input('Qual é o seu nome: ')\n",
        "  print(f'Olá {nome}')"
      ],
      "execution_count": null,
      "outputs": []
    },
    {
      "cell_type": "code",
      "metadata": {
        "colab": {
          "base_uri": "https://localhost:8080/"
        },
        "id": "BJHInjlYDXQM",
        "outputId": "0fcfa94d-62ef-433d-b097-79aa19ff313c"
      },
      "source": [
        "saudacao()"
      ],
      "execution_count": null,
      "outputs": [
        {
          "output_type": "stream",
          "text": [
            "Qual é o seu nome: Ricardo\n",
            "Olá Ricardo\n"
          ],
          "name": "stdout"
        }
      ]
    },
    {
      "cell_type": "code",
      "metadata": {
        "id": "IuOguGiyDuPj"
      },
      "source": [
        ""
      ],
      "execution_count": null,
      "outputs": []
    },
    {
      "cell_type": "markdown",
      "metadata": {
        "id": "m_msfvKrH3ZR"
      },
      "source": [
        "## PARAMETROS"
      ]
    },
    {
      "cell_type": "code",
      "metadata": {
        "id": "oN9yWt6OIYvx"
      },
      "source": [
        "nome='chalet'"
      ],
      "execution_count": null,
      "outputs": []
    },
    {
      "cell_type": "code",
      "metadata": {
        "id": "eojOn7CEH7Db"
      },
      "source": [
        "def saudacao_com_parametros(nome_pessoa):\n",
        "  print(f' Olá {nome_pessoa}')"
      ],
      "execution_count": null,
      "outputs": []
    },
    {
      "cell_type": "code",
      "metadata": {
        "colab": {
          "base_uri": "https://localhost:8080/"
        },
        "id": "1SKEZLEqIbaE",
        "outputId": "b666df92-e4d6-4900-9322-5fe0db9a5de5"
      },
      "source": [
        "saudacao_com_parametros(nome)"
      ],
      "execution_count": null,
      "outputs": [
        {
          "output_type": "stream",
          "text": [
            " Olá chalet\n"
          ],
          "name": "stdout"
        }
      ]
    },
    {
      "cell_type": "markdown",
      "metadata": {
        "id": "gw7RSP97I8U_"
      },
      "source": [
        "\n",
        "## CONDICIONAIS\n",
        "---\n",
        "\n"
      ]
    },
    {
      "cell_type": "code",
      "metadata": {
        "id": "mOHJuq9oIk3K"
      },
      "source": [
        "idade = 15"
      ],
      "execution_count": null,
      "outputs": []
    },
    {
      "cell_type": "code",
      "metadata": {
        "id": "nSvjsOAdJIrJ"
      },
      "source": [
        "def verifica_idade(idade):\n",
        "  if idade >= 18:\n",
        "    print('Tem idade para dirigir')\n",
        "  else:\n",
        "    print('Não tem idade para dirigir')"
      ],
      "execution_count": null,
      "outputs": []
    },
    {
      "cell_type": "code",
      "metadata": {
        "colab": {
          "base_uri": "https://localhost:8080/"
        },
        "id": "eqAj1Y2DJ5-o",
        "outputId": "5c8dc94a-8f69-4a6c-d11e-2485980c04c9"
      },
      "source": [
        "verifica_idade(idade)"
      ],
      "execution_count": null,
      "outputs": [
        {
          "output_type": "stream",
          "text": [
            "Não tem idade para dirigir\n"
          ],
          "name": "stdout"
        }
      ]
    },
    {
      "cell_type": "code",
      "metadata": {
        "id": "CHzvdlTnKYUd"
      },
      "source": [
        "def verifica_idade_sem_para():\n",
        "  idade=input('Qual é sua idade : ')\n",
        "  idade=int(idade)\n",
        "  if idade >= 18:\n",
        "    print('Tem idade para dirigir')\n",
        "  else:\n",
        "    print('Não tem idade para dirigir')"
      ],
      "execution_count": null,
      "outputs": []
    },
    {
      "cell_type": "code",
      "metadata": {
        "id": "rWuw3V8nLn4P"
      },
      "source": [
        "verifica_idade_sem_para()"
      ],
      "execution_count": null,
      "outputs": []
    },
    {
      "cell_type": "markdown",
      "metadata": {
        "id": "sQLOcQQoMo2U"
      },
      "source": [
        "## CONVERTENDO TYPES"
      ]
    },
    {
      "cell_type": "code",
      "metadata": {
        "colab": {
          "base_uri": "https://localhost:8080/"
        },
        "id": "r7jJs4i5MufT",
        "outputId": "4cfb2a51-6748-466d-f2f2-01300bc49fb7"
      },
      "source": [
        "idade=22\n",
        "type(idade)"
      ],
      "execution_count": null,
      "outputs": [
        {
          "output_type": "execute_result",
          "data": {
            "text/plain": [
              "int"
            ]
          },
          "metadata": {
            "tags": []
          },
          "execution_count": 23
        }
      ]
    },
    {
      "cell_type": "markdown",
      "metadata": {
        "id": "5svDAQq_O7b2"
      },
      "source": [
        "### LISTAS"
      ]
    },
    {
      "cell_type": "code",
      "metadata": {
        "colab": {
          "base_uri": "https://localhost:8080/"
        },
        "id": "lrFqOx0XO_u4",
        "outputId": "5488dae4-f3bf-426e-c5cc-b78951e9563d"
      },
      "source": [
        "idades=[18,20,25,50]\n",
        "type(idades)"
      ],
      "execution_count": null,
      "outputs": [
        {
          "output_type": "execute_result",
          "data": {
            "text/plain": [
              "list"
            ]
          },
          "metadata": {
            "tags": []
          },
          "execution_count": 24
        }
      ]
    },
    {
      "cell_type": "code",
      "metadata": {
        "colab": {
          "base_uri": "https://localhost:8080/"
        },
        "id": "4iEfyqRPPj2Q",
        "outputId": "ad5c9573-3cf4-4764-9c3d-fa4738e310e4"
      },
      "source": [
        "idades[2]"
      ],
      "execution_count": null,
      "outputs": [
        {
          "output_type": "execute_result",
          "data": {
            "text/plain": [
              "25"
            ]
          },
          "metadata": {
            "tags": []
          },
          "execution_count": 25
        }
      ]
    },
    {
      "cell_type": "code",
      "metadata": {
        "id": "eHT1jUpiPyP_"
      },
      "source": [
        ""
      ],
      "execution_count": null,
      "outputs": []
    },
    {
      "cell_type": "markdown",
      "metadata": {
        "id": "ZjrI_xW0P5Fr"
      },
      "source": [
        "[ ] idades [18,20,25,50]\\n\n",
        "#\n",
        "[ ]            0  1  2  3"
      ]
    },
    {
      "cell_type": "code",
      "metadata": {
        "colab": {
          "base_uri": "https://localhost:8080/"
        },
        "id": "q5HoHTzDQGsT",
        "outputId": "7ff7d32b-09bf-4fb8-8e2c-ff2d6731d4b9"
      },
      "source": [
        "idades[0:2]"
      ],
      "execution_count": null,
      "outputs": [
        {
          "output_type": "execute_result",
          "data": {
            "text/plain": [
              "[18, 20]"
            ]
          },
          "metadata": {
            "tags": []
          },
          "execution_count": 28
        }
      ]
    },
    {
      "cell_type": "code",
      "metadata": {
        "colab": {
          "base_uri": "https://localhost:8080/"
        },
        "id": "VDnWtPPxQ2Sx",
        "outputId": "b9944554-c3bf-4f4f-eac6-202432b9b76a"
      },
      "source": [
        "idades[1:]"
      ],
      "execution_count": null,
      "outputs": [
        {
          "output_type": "execute_result",
          "data": {
            "text/plain": [
              "[20, 25, 50]"
            ]
          },
          "metadata": {
            "tags": []
          },
          "execution_count": 29
        }
      ]
    },
    {
      "cell_type": "code",
      "metadata": {
        "colab": {
          "base_uri": "https://localhost:8080/"
        },
        "id": "JB1agcc3RGi2",
        "outputId": "4bb17791-024e-4e21-d2be-0c94ff337285"
      },
      "source": [
        "idades[-1]"
      ],
      "execution_count": null,
      "outputs": [
        {
          "output_type": "execute_result",
          "data": {
            "text/plain": [
              "50"
            ]
          },
          "metadata": {
            "tags": []
          },
          "execution_count": 30
        }
      ]
    },
    {
      "cell_type": "code",
      "metadata": {
        "colab": {
          "base_uri": "https://localhost:8080/"
        },
        "id": "z0So_mKYRPBx",
        "outputId": "308a0206-a489-490d-bb08-b6a29aec181f"
      },
      "source": [
        "idades[-2]"
      ],
      "execution_count": null,
      "outputs": [
        {
          "output_type": "execute_result",
          "data": {
            "text/plain": [
              "25"
            ]
          },
          "metadata": {
            "tags": []
          },
          "execution_count": 31
        }
      ]
    },
    {
      "cell_type": "code",
      "metadata": {
        "id": "yuNA3bg0RSeI"
      },
      "source": [
        ""
      ],
      "execution_count": null,
      "outputs": []
    },
    {
      "cell_type": "markdown",
      "metadata": {
        "id": "3KiqdJiGRwJh"
      },
      "source": [
        "## LAÇOS E LOOPS"
      ]
    },
    {
      "cell_type": "code",
      "metadata": {
        "id": "mQd2YQAhRzth"
      },
      "source": [
        "# FOR FORA DA FUNÇÃO\n",
        "\n",
        "def verifica_idade(idade):\n",
        "  if idade >= 18:\n",
        "    print(f'{idade} tem idade para dirigir')\n",
        "  else:\n",
        "    print(f'{idade} não tem idade para dirigir')\n",
        "\n",
        "    # PARA CADA IDADE NA LISTA VERIFICAR SE PODE DIRIGIR\n"
      ],
      "execution_count": null,
      "outputs": []
    },
    {
      "cell_type": "code",
      "metadata": {
        "colab": {
          "base_uri": "https://localhost:8080/"
        },
        "id": "aABso2PxS5aF",
        "outputId": "53634234-6aa1-4e4c-a09b-639521360ac8"
      },
      "source": [
        " for idade in idades:\n",
        "   verifica_idade(idade)"
      ],
      "execution_count": null,
      "outputs": [
        {
          "output_type": "stream",
          "text": [
            "18 tem idade para dirigir\n",
            "20 tem idade para dirigir\n",
            "25 tem idade para dirigir\n",
            "50 tem idade para dirigir\n"
          ],
          "name": "stdout"
        }
      ]
    },
    {
      "cell_type": "code",
      "metadata": {
        "id": "cyMcRlwbTimO"
      },
      "source": [
        "# FOR NA FUNÇÃO RECEBE LISTA\n",
        "\n",
        "def verifica_idades(idades):\n",
        "  for idade in idades:\n",
        "    if idade >= 18:\n",
        "      print(f'{idade} tem idade para dirigir')\n",
        "    else:\n",
        "      print(f'{idade} não tem idade para dirigir')\n",
        "\n",
        "    # PARA CADA IDADE NA LISTA VERIFICAR SE PODE DIRIGIR"
      ],
      "execution_count": null,
      "outputs": []
    },
    {
      "cell_type": "code",
      "metadata": {
        "colab": {
          "base_uri": "https://localhost:8080/"
        },
        "id": "RH_h6PbJUM4Z",
        "outputId": "4bc6cb8b-1b28-49be-c3b1-85213a2d2d70"
      },
      "source": [
        "verifica_idades(idades)"
      ],
      "execution_count": null,
      "outputs": [
        {
          "output_type": "stream",
          "text": [
            "18 tem idade para dirigir\n",
            "20 tem idade para dirigir\n",
            "25 tem idade para dirigir\n",
            "50 tem idade para dirigir\n"
          ],
          "name": "stdout"
        }
      ]
    },
    {
      "cell_type": "code",
      "metadata": {
        "id": "Z82EggtoUUIU"
      },
      "source": [
        ""
      ],
      "execution_count": null,
      "outputs": []
    },
    {
      "cell_type": "markdown",
      "metadata": {
        "id": "X3FQXz8HUuv9"
      },
      "source": [
        "## BOOLEAN"
      ]
    },
    {
      "cell_type": "code",
      "metadata": {
        "colab": {
          "base_uri": "https://localhost:8080/"
        },
        "id": "AV5H0BnVUyXX",
        "outputId": "2b2a378c-dfee-49cd-c881-54b4e6b8b93d"
      },
      "source": [
        "idade=18\n",
        "idade>18"
      ],
      "execution_count": null,
      "outputs": [
        {
          "output_type": "execute_result",
          "data": {
            "text/plain": [
              "False"
            ]
          },
          "metadata": {
            "tags": []
          },
          "execution_count": 38
        }
      ]
    },
    {
      "cell_type": "code",
      "metadata": {
        "id": "uz80WzSSVEVE"
      },
      "source": [
        "permissoes=[]\n",
        "idades=[20,14,40]\n",
        "\n",
        "def verifica_se_dirigi(idades, permissoes):\n",
        "  for idade in idades:\n",
        "    if idade >=18:\n",
        "      permissoes.append(True)\n",
        "    else:\n",
        "      permissoes.append(False)\n",
        "\n",
        "verifica_se_dirigi(idades, permissoes)\n"
      ],
      "execution_count": null,
      "outputs": []
    },
    {
      "cell_type": "code",
      "metadata": {
        "colab": {
          "base_uri": "https://localhost:8080/"
        },
        "id": "GFlPoIIQWYb8",
        "outputId": "7e3389f1-acc7-4e1a-85c4-dc99326421f4"
      },
      "source": [
        "permissoes"
      ],
      "execution_count": null,
      "outputs": [
        {
          "output_type": "execute_result",
          "data": {
            "text/plain": [
              "[True, False, True]"
            ]
          },
          "metadata": {
            "tags": []
          },
          "execution_count": 48
        }
      ]
    },
    {
      "cell_type": "code",
      "metadata": {
        "colab": {
          "base_uri": "https://localhost:8080/"
        },
        "id": "6ui8JG_qXOVE",
        "outputId": "6387a1eb-c974-4405-a7b2-5a70860438ef"
      },
      "source": [
        "for permissao in permissoes:\n",
        "  if permissao == True:\n",
        "    print('Tem permissao')\n",
        "  else:\n",
        "    print('Nao tem permissao')"
      ],
      "execution_count": null,
      "outputs": [
        {
          "output_type": "stream",
          "text": [
            "Tem permissao\n",
            "Nao tem permissao\n",
            "Tem permissao\n"
          ],
          "name": "stdout"
        }
      ]
    },
    {
      "cell_type": "code",
      "metadata": {
        "id": "xMOpGr5jX94W"
      },
      "source": [
        ""
      ],
      "execution_count": null,
      "outputs": []
    },
    {
      "cell_type": "markdown",
      "metadata": {
        "id": "9YNT0c_jabqr"
      },
      "source": [
        "## Tipos distintos em uma LISTA"
      ]
    },
    {
      "cell_type": "code",
      "metadata": {
        "colab": {
          "base_uri": "https://localhost:8080/"
        },
        "id": "BSjoCLFIagFa",
        "outputId": "4947a9b3-2a9c-49e7-ee6d-61223fe0254a"
      },
      "source": [
        "lista = ['guilhrrme',28,True,'18']\n",
        "\n",
        "for elemento in lista:\n",
        "  print(f'O elemento {elemento} ´do tipo : ',type(elemento))"
      ],
      "execution_count": null,
      "outputs": [
        {
          "output_type": "stream",
          "text": [
            "O elemento guilhrrme ´do tipo :  <class 'str'>\n",
            "O elemento 28 ´do tipo :  <class 'int'>\n",
            "O elemento True ´do tipo :  <class 'bool'>\n",
            "O elemento 18 ´do tipo :  <class 'str'>\n"
          ],
          "name": "stdout"
        }
      ]
    },
    {
      "cell_type": "code",
      "metadata": {
        "id": "rTVvLTLjaxbK"
      },
      "source": [
        ""
      ],
      "execution_count": null,
      "outputs": []
    },
    {
      "cell_type": "markdown",
      "metadata": {
        "id": "jk0hlY99cYST"
      },
      "source": [
        "## IMPORT"
      ]
    },
    {
      "cell_type": "code",
      "metadata": {
        "colab": {
          "base_uri": "https://localhost:8080/"
        },
        "id": "bThnreZdcaIr",
        "outputId": "00e65766-850e-4153-e80e-db26ec2d5d60"
      },
      "source": [
        "from random import randrange, seed\n",
        "seed(11)\n",
        "randrange(0,11)"
      ],
      "execution_count": null,
      "outputs": [
        {
          "output_type": "execute_result",
          "data": {
            "text/plain": [
              "7"
            ]
          },
          "metadata": {
            "tags": []
          },
          "execution_count": 63
        }
      ]
    },
    {
      "cell_type": "code",
      "metadata": {
        "colab": {
          "base_uri": "https://localhost:8080/"
        },
        "id": "cPmHkzwmc1ad",
        "outputId": "0cc16141-79dc-4435-f611-79dd8fcf937e"
      },
      "source": [
        "notas_matematica = []\n",
        "for notas in range(8):\n",
        "  notas_matematica.append(randrange(0,11))\n",
        "\n",
        "notas_matematica"
      ],
      "execution_count": null,
      "outputs": [
        {
          "output_type": "execute_result",
          "data": {
            "text/plain": [
              "[8, 7, 7, 8, 9, 3, 2, 8]"
            ]
          },
          "metadata": {
            "tags": []
          },
          "execution_count": 64
        }
      ]
    },
    {
      "cell_type": "code",
      "metadata": {
        "colab": {
          "base_uri": "https://localhost:8080/"
        },
        "id": "ov1BQg54d8do",
        "outputId": "bd7ac59c-519a-4988-fd56-908071779d98"
      },
      "source": [
        "len(notas_matematica)"
      ],
      "execution_count": null,
      "outputs": [
        {
          "output_type": "execute_result",
          "data": {
            "text/plain": [
              "8"
            ]
          },
          "metadata": {
            "tags": []
          },
          "execution_count": 65
        }
      ]
    },
    {
      "cell_type": "code",
      "metadata": {
        "id": "LRyr2qhpekAH"
      },
      "source": [
        ""
      ],
      "execution_count": null,
      "outputs": []
    },
    {
      "cell_type": "markdown",
      "metadata": {
        "id": "BMDbPoK5g-sw"
      },
      "source": [
        "## MATPLOTLIB"
      ]
    },
    {
      "cell_type": "code",
      "metadata": {
        "id": "PuVupXL3hA0T"
      },
      "source": [
        "import matplotlib.pyplot as plt"
      ],
      "execution_count": null,
      "outputs": []
    },
    {
      "cell_type": "code",
      "metadata": {
        "colab": {
          "base_uri": "https://localhost:8080/"
        },
        "id": "5poJFWYKhS0R",
        "outputId": "bf20f008-e7d8-466f-e1f9-f3e18d26b215"
      },
      "source": [
        "x = list(range(1,9))\n",
        "x"
      ],
      "execution_count": null,
      "outputs": [
        {
          "output_type": "execute_result",
          "data": {
            "text/plain": [
              "[1, 2, 3, 4, 5, 6, 7, 8]"
            ]
          },
          "metadata": {
            "tags": []
          },
          "execution_count": 67
        }
      ]
    },
    {
      "cell_type": "code",
      "metadata": {
        "colab": {
          "base_uri": "https://localhost:8080/"
        },
        "id": "zECFVGmDhwC0",
        "outputId": "b70f2f57-e369-4f2c-8a96-09b1739c1e32"
      },
      "source": [
        "y=notas_matematica\n",
        "y"
      ],
      "execution_count": null,
      "outputs": [
        {
          "output_type": "execute_result",
          "data": {
            "text/plain": [
              "[8, 7, 7, 8, 9, 3, 2, 8]"
            ]
          },
          "metadata": {
            "tags": []
          },
          "execution_count": 68
        }
      ]
    },
    {
      "cell_type": "code",
      "metadata": {
        "colab": {
          "base_uri": "https://localhost:8080/"
        },
        "id": "oWqdq9Ukh3b2",
        "outputId": "103ae26c-d9ca-45f9-8f13-7c113c4bc9a7"
      },
      "source": [
        "plt.plot(x,y, marker='o')\n",
        "plt.title('Notas de Matematica')\n",
        "plt.xlabel('Provas')\n",
        "plt.ylabel('Notas')\n",
        "plt.show()"
      ],
      "execution_count": null,
      "outputs": [
        {
          "output_type": "display_data",
          "data": {
            "image/png": "[encoded data removed]",
            "text/plain": [
              "<Figure size 432x288 with 1 Axes>"
            ]
          },
          "metadata": {
            "tags": [],
            "needs_background": "light"
          }
        }
      ]
    },
    {
      "cell_type": "code",
      "metadata": {
        "id": "-ihf6AO7iRts"
      },
      "source": [
        ""
      ],
      "execution_count": null,
      "outputs": []
    }
  ]
}